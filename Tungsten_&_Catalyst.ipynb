{
  "nbformat": 4,
  "nbformat_minor": 0,
  "metadata": {
    "colab": {
      "provenance": [],
      "authorship_tag": "ABX9TyNbH+WflXUQHPCc+GsMWVhZ",
      "include_colab_link": true
    },
    "kernelspec": {
      "name": "python3",
      "display_name": "Python 3"
    },
    "language_info": {
      "name": "python"
    }
  },
  "cells": [
    {
      "cell_type": "markdown",
      "metadata": {
        "id": "view-in-github",
        "colab_type": "text"
      },
      "source": [
        "<a href=\"https://colab.research.google.com/github/Nadiyapathan/pyspark/blob/main/Tungsten_%26_Catalyst.ipynb\" target=\"_parent\"><img src=\"https://colab.research.google.com/assets/colab-badge.svg\" alt=\"Open In Colab\"/></a>"
      ]
    },
    {
      "cell_type": "code",
      "execution_count": 4,
      "metadata": {
        "id": "Q_3vzXqTYyYY"
      },
      "outputs": [],
      "source": [
        "from pyspark.sql import SparkSession\n",
        "\n",
        "Spark=SparkSession.builder.appName(\"Pyspark\").getOrCreate()"
      ]
    },
    {
      "cell_type": "code",
      "source": [
        "data=[(\"nadi\",32),(\"Jabi\",39),(\"Ayesha\",6),(\"Ayaan\",3)]\n",
        "columns=[\"Name\",\"Age\"]\n",
        "df = Spark.createDataFrame(data,columns)\n",
        "df.show()"
      ],
      "metadata": {
        "colab": {
          "base_uri": "https://localhost:8080/"
        },
        "id": "p2emymuHZiZ7",
        "outputId": "4386a989-47fd-4a9b-ba06-1837229475b8"
      },
      "execution_count": 5,
      "outputs": [
        {
          "output_type": "stream",
          "name": "stdout",
          "text": [
            "+------+---+\n",
            "|  Name|Age|\n",
            "+------+---+\n",
            "|  nadi| 32|\n",
            "|  Jabi| 39|\n",
            "|Ayesha|  6|\n",
            "| Ayaan|  3|\n",
            "+------+---+\n",
            "\n"
          ]
        }
      ]
    },
    {
      "cell_type": "code",
      "source": [
        "from pyspark.sql.functions import col\n",
        "\n",
        "large_df = Spark.range(1, 1000000)\n",
        "result_df=large_df.select((col(\"id\")*2).alias(\"double_id\"))\n",
        "result_df.show(10)"
      ],
      "metadata": {
        "colab": {
          "base_uri": "https://localhost:8080/"
        },
        "id": "Rl9jg3nfcz7d",
        "outputId": "94177422-fbe9-4463-aabe-9d75702862ad"
      },
      "execution_count": 6,
      "outputs": [
        {
          "output_type": "stream",
          "name": "stdout",
          "text": [
            "+---------+\n",
            "|double_id|\n",
            "+---------+\n",
            "|        2|\n",
            "|        4|\n",
            "|        6|\n",
            "|        8|\n",
            "|       10|\n",
            "|       12|\n",
            "|       14|\n",
            "|       16|\n",
            "|       18|\n",
            "|       20|\n",
            "+---------+\n",
            "only showing top 10 rows\n",
            "\n"
          ]
        }
      ]
    },
    {
      "cell_type": "code",
      "source": [
        "df.createOrReplaceTempView(\"people\")\n",
        "\n",
        "\n",
        "optimized_df = Spark.sql(\"Select name from people where age>30\")\n",
        "optimized_df.show()\n",
        "\n"
      ],
      "metadata": {
        "colab": {
          "base_uri": "https://localhost:8080/"
        },
        "id": "4P6vTtF117j8",
        "outputId": "c40a27da-98d8-4691-cdb9-2442e4864d9f"
      },
      "execution_count": 9,
      "outputs": [
        {
          "output_type": "stream",
          "name": "stdout",
          "text": [
            "+----+\n",
            "|name|\n",
            "+----+\n",
            "|nadi|\n",
            "|Jabi|\n",
            "+----+\n",
            "\n"
          ]
        }
      ]
    },
    {
      "cell_type": "code",
      "source": [
        "from pyspark.sql import SparkSession\n",
        "from pyspark.sql.functions import col,lit"
      ],
      "metadata": {
        "id": "JFRSybjm4zkJ"
      },
      "execution_count": 10,
      "outputs": []
    },
    {
      "cell_type": "code",
      "source": [
        "spark =SparkSession.builder.appName(\"pysparkPractice\").getOrCreate()\n",
        "\n",
        "data =[(\"John\",\"Engineering\",633333),(\"nadi\",\"Marketing\",75000),(\"sonu\",\"Finance\",500000)]\n",
        "columns=[\"Name\",\"Department\",\"Salary\"]\n"
      ],
      "metadata": {
        "id": "c-WKI3tX5S2F"
      },
      "execution_count": 12,
      "outputs": []
    },
    {
      "cell_type": "code",
      "source": [
        "df = spark.createDataFrame(data, columns)\n",
        "df.show()"
      ],
      "metadata": {
        "colab": {
          "base_uri": "https://localhost:8080/"
        },
        "id": "AcOi9kHx6hKo",
        "outputId": "b1ca5eb6-12d3-41cf-e674-4d284d700791"
      },
      "execution_count": 16,
      "outputs": [
        {
          "output_type": "stream",
          "name": "stdout",
          "text": [
            "+----+-----------+------+\n",
            "|Name| Department|Salary|\n",
            "+----+-----------+------+\n",
            "|John|Engineering|633333|\n",
            "|nadi|  Marketing| 75000|\n",
            "|sonu|    Finance|500000|\n",
            "+----+-----------+------+\n",
            "\n"
          ]
        }
      ]
    },
    {
      "cell_type": "code",
      "source": [
        "df_filtered=df.filter(col(\"Salary\")>70000)\n",
        "df_filtered.show()"
      ],
      "metadata": {
        "colab": {
          "base_uri": "https://localhost:8080/"
        },
        "id": "pwLLAqCs7HFY",
        "outputId": "f04a12ca-713a-4181-e41e-49e595336cc2"
      },
      "execution_count": 18,
      "outputs": [
        {
          "output_type": "stream",
          "name": "stdout",
          "text": [
            "+----+-----------+------+\n",
            "|Name| Department|Salary|\n",
            "+----+-----------+------+\n",
            "|John|Engineering|633333|\n",
            "|nadi|  Marketing| 75000|\n",
            "|sonu|    Finance|500000|\n",
            "+----+-----------+------+\n",
            "\n"
          ]
        }
      ]
    },
    {
      "cell_type": "code",
      "source": [
        "df_with_bouns=df.withColumn(\"Bonus\",col(\"Salary\")*0.1)\n",
        "df_with_bouns.show()"
      ],
      "metadata": {
        "colab": {
          "base_uri": "https://localhost:8080/"
        },
        "id": "OmWCynGF7-qL",
        "outputId": "d3909fb0-cd48-4614-bb92-4b2a41b63dd4"
      },
      "execution_count": 19,
      "outputs": [
        {
          "output_type": "stream",
          "name": "stdout",
          "text": [
            "+----+-----------+------+-------+\n",
            "|Name| Department|Salary|  Bonus|\n",
            "+----+-----------+------+-------+\n",
            "|John|Engineering|633333|63333.3|\n",
            "|nadi|  Marketing| 75000| 7500.0|\n",
            "|sonu|    Finance|500000|50000.0|\n",
            "+----+-----------+------+-------+\n",
            "\n"
          ]
        }
      ]
    },
    {
      "cell_type": "code",
      "source": [
        "df_with_new_col = df.withColumn(\"Location\", lit(\"New York\"))\n",
        "df_with_new_col.show()\n"
      ],
      "metadata": {
        "colab": {
          "base_uri": "https://localhost:8080/"
        },
        "id": "UdkGMgDR8mfs",
        "outputId": "f34ba770-1bab-4a9b-bf85-692e563bd107"
      },
      "execution_count": 20,
      "outputs": [
        {
          "output_type": "stream",
          "name": "stdout",
          "text": [
            "+----+-----------+------+--------+\n",
            "|Name| Department|Salary|Location|\n",
            "+----+-----------+------+--------+\n",
            "|John|Engineering|633333|New York|\n",
            "|nadi|  Marketing| 75000|New York|\n",
            "|sonu|    Finance|500000|New York|\n",
            "+----+-----------+------+--------+\n",
            "\n"
          ]
        }
      ]
    },
    {
      "cell_type": "code",
      "source": [],
      "metadata": {
        "id": "mxT0v8gz383S"
      },
      "execution_count": null,
      "outputs": []
    }
  ]
}