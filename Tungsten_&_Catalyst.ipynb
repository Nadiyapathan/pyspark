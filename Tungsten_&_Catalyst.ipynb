{
  "nbformat": 4,
  "nbformat_minor": 0,
  "metadata": {
    "colab": {
      "provenance": [],
      "authorship_tag": "ABX9TyNBVZHZ3DDRZ9Z3ysoTPS7U",
      "include_colab_link": true
    },
    "kernelspec": {
      "name": "python3",
      "display_name": "Python 3"
    },
    "language_info": {
      "name": "python"
    }
  },
  "cells": [
    {
      "cell_type": "markdown",
      "metadata": {
        "id": "view-in-github",
        "colab_type": "text"
      },
      "source": [
        "<a href=\"https://colab.research.google.com/github/Nadiyapathan/pyspark/blob/main/Tungsten_%26_Catalyst.ipynb\" target=\"_parent\"><img src=\"https://colab.research.google.com/assets/colab-badge.svg\" alt=\"Open In Colab\"/></a>"
      ]
    },
    {
      "cell_type": "code",
      "execution_count": 10,
      "metadata": {
        "id": "Q_3vzXqTYyYY"
      },
      "outputs": [],
      "source": [
        "from pyspark.sql import SparkSession\n",
        "\n",
        "Spark=SparkSession.builder.appName(\"Pyspark\").getOrCreate()"
      ]
    },
    {
      "cell_type": "code",
      "source": [
        "data=[(\"nadi\",32),(\"Jabi\",39),(\"Ayesha\",6),(\"Ayaan\",3)]\n",
        "columns=[\"Name\",\"Age\"]\n",
        "df = Spark.createDataFrame(data,columns)\n",
        "df.show()"
      ],
      "metadata": {
        "colab": {
          "base_uri": "https://localhost:8080/"
        },
        "id": "p2emymuHZiZ7",
        "outputId": "af90b571-056c-4dc3-8d5d-bf8245c8bc3e"
      },
      "execution_count": 11,
      "outputs": [
        {
          "output_type": "stream",
          "name": "stdout",
          "text": [
            "+------+---+\n",
            "|  Name|Age|\n",
            "+------+---+\n",
            "|  nadi| 32|\n",
            "|  Jabi| 39|\n",
            "|Ayesha|  6|\n",
            "| Ayaan|  3|\n",
            "+------+---+\n",
            "\n"
          ]
        }
      ]
    },
    {
      "cell_type": "code",
      "source": [
        "from pyspark.sql.functions import col\n",
        "\n",
        "large_df = Spark.range(1, 1000000)\n",
        "result_df=large_df.select((col(\"id\")*2).alias(\"double_id\"))\n",
        "result_df.show(10)"
      ],
      "metadata": {
        "colab": {
          "base_uri": "https://localhost:8080/"
        },
        "id": "Rl9jg3nfcz7d",
        "outputId": "e21a4f54-833c-4005-9fa3-31628aff2abc"
      },
      "execution_count": 12,
      "outputs": [
        {
          "output_type": "stream",
          "name": "stdout",
          "text": [
            "+---------+\n",
            "|double_id|\n",
            "+---------+\n",
            "|        2|\n",
            "|        4|\n",
            "|        6|\n",
            "|        8|\n",
            "|       10|\n",
            "|       12|\n",
            "|       14|\n",
            "|       16|\n",
            "|       18|\n",
            "|       20|\n",
            "+---------+\n",
            "only showing top 10 rows\n",
            "\n"
          ]
        }
      ]
    },
    {
      "cell_type": "code",
      "source": [
        "df.createOrReplaceTempView(\"people\")\n",
        "\n",
        "\n",
        "optimized_df = Spark.sql(\"Select name from people where age>30\")\n",
        "optimized_df.show()\n",
        "\n"
      ],
      "metadata": {
        "colab": {
          "base_uri": "https://localhost:8080/"
        },
        "id": "4P6vTtF117j8",
        "outputId": "dc515d33-f97a-465c-c548-23656c1a93a2"
      },
      "execution_count": 13,
      "outputs": [
        {
          "output_type": "stream",
          "name": "stdout",
          "text": [
            "+----+\n",
            "|name|\n",
            "+----+\n",
            "|nadi|\n",
            "|Jabi|\n",
            "+----+\n",
            "\n"
          ]
        }
      ]
    },
    {
      "cell_type": "code",
      "source": [
        "from pyspark.sql import SparkSession\n",
        "from pyspark.sql.functions import col,lit"
      ],
      "metadata": {
        "id": "JFRSybjm4zkJ"
      },
      "execution_count": 2,
      "outputs": []
    },
    {
      "cell_type": "code",
      "source": [
        "spark =SparkSession.builder.appName(\"pysparkPractice\").getOrCreate()\n",
        "\n",
        "data =[(\"John\",\"Engineering\",633333),(\"nadi\",\"Marketing\",75000),(\"sonu\",\"Finance\",500000)]\n",
        "columns=[\"Name\",\"Department\",\"Salary\"]\n"
      ],
      "metadata": {
        "id": "c-WKI3tX5S2F"
      },
      "execution_count": 3,
      "outputs": []
    },
    {
      "cell_type": "code",
      "source": [
        "df = spark.createDataFrame(data, columns)\n",
        "df.show()"
      ],
      "metadata": {
        "colab": {
          "base_uri": "https://localhost:8080/"
        },
        "id": "AcOi9kHx6hKo",
        "outputId": "48b2fb55-2470-4577-bc8b-c72d2d5ddfa9"
      },
      "execution_count": 4,
      "outputs": [
        {
          "output_type": "stream",
          "name": "stdout",
          "text": [
            "+----+-----------+------+\n",
            "|Name| Department|Salary|\n",
            "+----+-----------+------+\n",
            "|John|Engineering|633333|\n",
            "|nadi|  Marketing| 75000|\n",
            "|sonu|    Finance|500000|\n",
            "+----+-----------+------+\n",
            "\n"
          ]
        }
      ]
    },
    {
      "cell_type": "code",
      "source": [
        "df_filtered=df.filter(col(\"Salary\")>70000)\n",
        "df_filtered.show()"
      ],
      "metadata": {
        "colab": {
          "base_uri": "https://localhost:8080/"
        },
        "id": "pwLLAqCs7HFY",
        "outputId": "69ee1789-cf11-48fc-ca61-2c68b79615d1"
      },
      "execution_count": 5,
      "outputs": [
        {
          "output_type": "stream",
          "name": "stdout",
          "text": [
            "+----+-----------+------+\n",
            "|Name| Department|Salary|\n",
            "+----+-----------+------+\n",
            "|John|Engineering|633333|\n",
            "|nadi|  Marketing| 75000|\n",
            "|sonu|    Finance|500000|\n",
            "+----+-----------+------+\n",
            "\n"
          ]
        }
      ]
    },
    {
      "cell_type": "code",
      "source": [
        "df_with_bouns=df.withColumn(\"Bonus\",col(\"Salary\")*0.1)\n",
        "df_with_bouns.show()"
      ],
      "metadata": {
        "colab": {
          "base_uri": "https://localhost:8080/"
        },
        "id": "OmWCynGF7-qL",
        "outputId": "fb4251de-0314-4cc1-f76a-103b45e4fc1b"
      },
      "execution_count": 6,
      "outputs": [
        {
          "output_type": "stream",
          "name": "stdout",
          "text": [
            "+----+-----------+------+-------+\n",
            "|Name| Department|Salary|  Bonus|\n",
            "+----+-----------+------+-------+\n",
            "|John|Engineering|633333|63333.3|\n",
            "|nadi|  Marketing| 75000| 7500.0|\n",
            "|sonu|    Finance|500000|50000.0|\n",
            "+----+-----------+------+-------+\n",
            "\n"
          ]
        }
      ]
    },
    {
      "cell_type": "code",
      "source": [
        "df_with_new_col = df.withColumn(\"Location\", lit(\"New York\"))\n",
        "df_with_new_col.show()\n"
      ],
      "metadata": {
        "colab": {
          "base_uri": "https://localhost:8080/"
        },
        "id": "UdkGMgDR8mfs",
        "outputId": "16647fc5-fc34-49ca-b569-6bce344dc016"
      },
      "execution_count": 7,
      "outputs": [
        {
          "output_type": "stream",
          "name": "stdout",
          "text": [
            "+----+-----------+------+--------+\n",
            "|Name| Department|Salary|Location|\n",
            "+----+-----------+------+--------+\n",
            "|John|Engineering|633333|New York|\n",
            "|nadi|  Marketing| 75000|New York|\n",
            "|sonu|    Finance|500000|New York|\n",
            "+----+-----------+------+--------+\n",
            "\n"
          ]
        }
      ]
    },
    {
      "cell_type": "code",
      "source": [
        "\n",
        "data = [(\"Finance\", 80000),\n",
        "        (\"Marketing\", 75000),\n",
        "        (\"Finance\", 90000),\n",
        "        (\"Engineering\", 70000),\n",
        "        (\"Marketing\", 72000)]\n",
        "\n",
        "columns = [\"Department\", \"Salary\"]\n",
        "\n",
        "df = spark.createDataFrame(data, columns)\n",
        "\n",
        "df_grouped = df.groupBy(\"Department\").avg(\"Salary\")\n",
        "df_grouped.show()\n",
        "\n",
        "df_count = df.groupBy(\"Department\").count()\n",
        "df_count.show()"
      ],
      "metadata": {
        "colab": {
          "base_uri": "https://localhost:8080/"
        },
        "id": "QBbQBxcH6qt0",
        "outputId": "3b1c1d6b-7c62-4198-998f-0e9982067c49"
      },
      "execution_count": 17,
      "outputs": [
        {
          "output_type": "stream",
          "name": "stdout",
          "text": [
            "+-----------+-----------+\n",
            "| Department|avg(Salary)|\n",
            "+-----------+-----------+\n",
            "|    Finance|    85000.0|\n",
            "|  Marketing|    73500.0|\n",
            "|Engineering|    70000.0|\n",
            "+-----------+-----------+\n",
            "\n",
            "+-----------+-----+\n",
            "| Department|count|\n",
            "+-----------+-----+\n",
            "|    Finance|    2|\n",
            "|  Marketing|    2|\n",
            "|Engineering|    1|\n",
            "+-----------+-----+\n",
            "\n"
          ]
        }
      ]
    },
    {
      "cell_type": "code",
      "source": [
        "\n",
        "\n",
        "from pyspark.sql import SparkSession\n",
        "from pyspark.sql.functions import col\n",
        "\n",
        "spark = SparkSession.builder.appName(\"TungstenOptimization\").getOrCreate()\n",
        "\n",
        "data = [(\"Apple\", \"Fruit\", 52),\n",
        "        (\"Banana\", \"Fruit\", 89),\n",
        "        (\"Carrot\", \"Vegetable\", 41),\n",
        "        (\"Tomato\", \"Vegetable\", 18),\n",
        "        (\"Mango\", \"Fruit\", 60),\n",
        "        (\"Broccoli\", \"Vegetable\", 55)]\n",
        "\n",
        "columns = [\"Name\", \"Type\", \"Calories\"]\n",
        "\n",
        "df = spark.createDataFrame(data, columns)\n",
        "\n",
        "optimized_df = df.withColumn(\"Calories_Doubled\", col(\"Calories\") * 2)\n",
        "\n",
        "optimized_df.show()\n",
        "\n",
        "\n"
      ],
      "metadata": {
        "colab": {
          "base_uri": "https://localhost:8080/"
        },
        "id": "RMOa2NYT61og",
        "outputId": "4a62a82c-e49e-44d9-f4cf-af12f59676b7"
      },
      "execution_count": 18,
      "outputs": [
        {
          "output_type": "stream",
          "name": "stdout",
          "text": [
            "+--------+---------+--------+----------------+\n",
            "|    Name|     Type|Calories|Calories_Doubled|\n",
            "+--------+---------+--------+----------------+\n",
            "|   Apple|    Fruit|      52|             104|\n",
            "|  Banana|    Fruit|      89|             178|\n",
            "|  Carrot|Vegetable|      41|              82|\n",
            "|  Tomato|Vegetable|      18|              36|\n",
            "|   Mango|    Fruit|      60|             120|\n",
            "|Broccoli|Vegetable|      55|             110|\n",
            "+--------+---------+--------+----------------+\n",
            "\n"
          ]
        }
      ]
    },
    {
      "cell_type": "code",
      "source": [
        "\n",
        "df.createOrReplaceTempView(\"foods\")\n",
        "\n",
        "optimized_query = spark.sql(\"SELECT Name, Calories FROM foods WHERE Calories > 50\")\n",
        "\n",
        "optimized_query.show()\n",
        "\n",
        "optimized_query.explain(mode=\"formatted\")"
      ],
      "metadata": {
        "colab": {
          "base_uri": "https://localhost:8080/"
        },
        "id": "DtxSSASw64wJ",
        "outputId": "075f3d6c-c37b-4b78-8e1e-f85954a01cd9"
      },
      "execution_count": 19,
      "outputs": [
        {
          "output_type": "stream",
          "name": "stdout",
          "text": [
            "+--------+--------+\n",
            "|    Name|Calories|\n",
            "+--------+--------+\n",
            "|   Apple|      52|\n",
            "|  Banana|      89|\n",
            "|   Mango|      60|\n",
            "|Broccoli|      55|\n",
            "+--------+--------+\n",
            "\n",
            "== Physical Plan ==\n",
            "* Project (3)\n",
            "+- * Filter (2)\n",
            "   +- * Scan ExistingRDD (1)\n",
            "\n",
            "\n",
            "(1) Scan ExistingRDD [codegen id : 1]\n",
            "Output [3]: [Name#146, Type#147, Calories#148L]\n",
            "Arguments: [Name#146, Type#147, Calories#148L], MapPartitionsRDD[45] at applySchemaToPythonRDD at NativeMethodAccessorImpl.java:0, ExistingRDD, UnknownPartitioning(0)\n",
            "\n",
            "(2) Filter [codegen id : 1]\n",
            "Input [3]: [Name#146, Type#147, Calories#148L]\n",
            "Condition : (isnotnull(Calories#148L) AND (Calories#148L > 50))\n",
            "\n",
            "(3) Project [codegen id : 1]\n",
            "Output [2]: [Name#146, Calories#148L]\n",
            "Input [3]: [Name#146, Type#147, Calories#148L]\n",
            "\n",
            "\n"
          ]
        }
      ]
    },
    {
      "cell_type": "code",
      "source": [
        "\n",
        "df_transformed = df.withColumn(\"Calories_Doubled\", col(\"Calories\") * 2)\n",
        "\n",
        "df_transformed.explain(mode=\"formatted\")\n",
        "df_transformed.show()\n"
      ],
      "metadata": {
        "colab": {
          "base_uri": "https://localhost:8080/"
        },
        "id": "O6R4Jk_w7D4k",
        "outputId": "985d6999-de26-47f0-97f7-856b3d1eac85"
      },
      "execution_count": 20,
      "outputs": [
        {
          "output_type": "stream",
          "name": "stdout",
          "text": [
            "== Physical Plan ==\n",
            "* Project (2)\n",
            "+- * Scan ExistingRDD (1)\n",
            "\n",
            "\n",
            "(1) Scan ExistingRDD [codegen id : 1]\n",
            "Output [3]: [Name#146, Type#147, Calories#148L]\n",
            "Arguments: [Name#146, Type#147, Calories#148L], MapPartitionsRDD[45] at applySchemaToPythonRDD at NativeMethodAccessorImpl.java:0, ExistingRDD, UnknownPartitioning(0)\n",
            "\n",
            "(2) Project [codegen id : 1]\n",
            "Output [4]: [Name#146, Type#147, Calories#148L, (Calories#148L * 2) AS Calories_Doubled#185L]\n",
            "Input [3]: [Name#146, Type#147, Calories#148L]\n",
            "\n",
            "\n",
            "+--------+---------+--------+----------------+\n",
            "|    Name|     Type|Calories|Calories_Doubled|\n",
            "+--------+---------+--------+----------------+\n",
            "|   Apple|    Fruit|      52|             104|\n",
            "|  Banana|    Fruit|      89|             178|\n",
            "|  Carrot|Vegetable|      41|              82|\n",
            "|  Tomato|Vegetable|      18|              36|\n",
            "|   Mango|    Fruit|      60|             120|\n",
            "|Broccoli|Vegetable|      55|             110|\n",
            "+--------+---------+--------+----------------+\n",
            "\n"
          ]
        }
      ]
    },
    {
      "cell_type": "code",
      "source": [
        "\n",
        "df.createOrReplaceTempView(\"foods\")\n",
        "\n",
        "optimized_query = spark.sql(\"SELECT Name FROM foods WHERE Calories > 50\")\n",
        "\n",
        "optimized_query.explain(mode=\"formatted\")\n",
        "optimized_query.show()\n"
      ],
      "metadata": {
        "colab": {
          "base_uri": "https://localhost:8080/"
        },
        "id": "SeLIMQ2s7M8I",
        "outputId": "7c6468cf-7327-4973-9efa-4fba2a05ff8c"
      },
      "execution_count": 21,
      "outputs": [
        {
          "output_type": "stream",
          "name": "stdout",
          "text": [
            "== Physical Plan ==\n",
            "* Project (3)\n",
            "+- * Filter (2)\n",
            "   +- * Scan ExistingRDD (1)\n",
            "\n",
            "\n",
            "(1) Scan ExistingRDD [codegen id : 1]\n",
            "Output [3]: [Name#146, Type#147, Calories#148L]\n",
            "Arguments: [Name#146, Type#147, Calories#148L], MapPartitionsRDD[45] at applySchemaToPythonRDD at NativeMethodAccessorImpl.java:0, ExistingRDD, UnknownPartitioning(0)\n",
            "\n",
            "(2) Filter [codegen id : 1]\n",
            "Input [3]: [Name#146, Type#147, Calories#148L]\n",
            "Condition : (isnotnull(Calories#148L) AND (Calories#148L > 50))\n",
            "\n",
            "(3) Project [codegen id : 1]\n",
            "Output [1]: [Name#146]\n",
            "Input [3]: [Name#146, Type#147, Calories#148L]\n",
            "\n",
            "\n",
            "+--------+\n",
            "|    Name|\n",
            "+--------+\n",
            "|   Apple|\n",
            "|  Banana|\n",
            "|   Mango|\n",
            "|Broccoli|\n",
            "+--------+\n",
            "\n"
          ]
        }
      ]
    },
    {
      "cell_type": "code",
      "source": [
        "\n",
        "from pyspark.sql.functions import broadcast\n",
        "\n",
        "price_data = [(\"Apple\", 1.2), (\"Banana\", 0.5), (\"Carrot\", 0.8), (\"Tomato\", 1.5), (\"Mango\", 2.0), (\"Broccoli\", 1.8)]\n",
        "price_columns = [\"Name\", \"Price_per_kg\"]\n",
        "\n",
        "df_price = spark.createDataFrame(price_data, price_columns)\n",
        "\n",
        "joined_df = df.join(broadcast(df_price), \"Name\", \"inner\")\n",
        "\n",
        "joined_df.explain(mode=\"formatted\")\n",
        "joined_df.show()\n"
      ],
      "metadata": {
        "colab": {
          "base_uri": "https://localhost:8080/"
        },
        "id": "PB7Bk6MP7UG3",
        "outputId": "fb8e2698-90d5-440c-9ceb-7438a279080e"
      },
      "execution_count": 22,
      "outputs": [
        {
          "output_type": "stream",
          "name": "stdout",
          "text": [
            "== Physical Plan ==\n",
            "AdaptiveSparkPlan (8)\n",
            "+- Project (7)\n",
            "   +- BroadcastHashJoin Inner BuildRight (6)\n",
            "      :- Filter (2)\n",
            "      :  +- Scan ExistingRDD (1)\n",
            "      +- BroadcastExchange (5)\n",
            "         +- Filter (4)\n",
            "            +- Scan ExistingRDD (3)\n",
            "\n",
            "\n",
            "(1) Scan ExistingRDD\n",
            "Output [3]: [Name#146, Type#147, Calories#148L]\n",
            "Arguments: [Name#146, Type#147, Calories#148L], MapPartitionsRDD[45] at applySchemaToPythonRDD at NativeMethodAccessorImpl.java:0, ExistingRDD, UnknownPartitioning(0)\n",
            "\n",
            "(2) Filter\n",
            "Input [3]: [Name#146, Type#147, Calories#148L]\n",
            "Condition : isnotnull(Name#146)\n",
            "\n",
            "(3) Scan ExistingRDD\n",
            "Output [2]: [Name#213, Price_per_kg#214]\n",
            "Arguments: [Name#213, Price_per_kg#214], MapPartitionsRDD[58] at applySchemaToPythonRDD at NativeMethodAccessorImpl.java:0, ExistingRDD, UnknownPartitioning(0)\n",
            "\n",
            "(4) Filter\n",
            "Input [2]: [Name#213, Price_per_kg#214]\n",
            "Condition : isnotnull(Name#213)\n",
            "\n",
            "(5) BroadcastExchange\n",
            "Input [2]: [Name#213, Price_per_kg#214]\n",
            "Arguments: HashedRelationBroadcastMode(List(input[0, string, false]),false), [plan_id=303]\n",
            "\n",
            "(6) BroadcastHashJoin\n",
            "Left keys [1]: [Name#146]\n",
            "Right keys [1]: [Name#213]\n",
            "Join type: Inner\n",
            "Join condition: None\n",
            "\n",
            "(7) Project\n",
            "Output [4]: [Name#146, Type#147, Calories#148L, Price_per_kg#214]\n",
            "Input [5]: [Name#146, Type#147, Calories#148L, Name#213, Price_per_kg#214]\n",
            "\n",
            "(8) AdaptiveSparkPlan\n",
            "Output [4]: [Name#146, Type#147, Calories#148L, Price_per_kg#214]\n",
            "Arguments: isFinalPlan=false\n",
            "\n",
            "\n",
            "+--------+---------+--------+------------+\n",
            "|    Name|     Type|Calories|Price_per_kg|\n",
            "+--------+---------+--------+------------+\n",
            "|   Apple|    Fruit|      52|         1.2|\n",
            "|  Banana|    Fruit|      89|         0.5|\n",
            "|  Carrot|Vegetable|      41|         0.8|\n",
            "|  Tomato|Vegetable|      18|         1.5|\n",
            "|   Mango|    Fruit|      60|         2.0|\n",
            "|Broccoli|Vegetable|      55|         1.8|\n",
            "+--------+---------+--------+------------+\n",
            "\n"
          ]
        }
      ]
    },
    {
      "cell_type": "code",
      "source": [],
      "metadata": {
        "id": "gQhQBETc7bA0"
      },
      "execution_count": null,
      "outputs": []
    }
  ]
}