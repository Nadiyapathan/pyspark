{
  "nbformat": 4,
  "nbformat_minor": 0,
  "metadata": {
    "colab": {
      "provenance": [],
      "authorship_tag": "ABX9TyMnpznPA56/h3pD2gWef6NC",
      "include_colab_link": true
    },
    "kernelspec": {
      "name": "python3",
      "display_name": "Python 3"
    },
    "language_info": {
      "name": "python"
    }
  },
  "cells": [
    {
      "cell_type": "markdown",
      "metadata": {
        "id": "view-in-github",
        "colab_type": "text"
      },
      "source": [
        "<a href=\"https://colab.research.google.com/github/Nadiyapathan/pyspark/blob/main/Tungsten_%26_Catalyst.ipynb\" target=\"_parent\"><img src=\"https://colab.research.google.com/assets/colab-badge.svg\" alt=\"Open In Colab\"/></a>"
      ]
    },
    {
      "cell_type": "code",
      "execution_count": 7,
      "metadata": {
        "id": "Q_3vzXqTYyYY"
      },
      "outputs": [],
      "source": [
        "from pyspark.sql import SparkSession\n",
        "\n",
        "Spark=SparkSession.builder.appName(\"Pyspark\").getOrCreate()"
      ]
    },
    {
      "cell_type": "code",
      "source": [
        "data=[(\"nadi\",32),(\"Jabi\",39),(\"Ayesha\",6),(\"Ayaan\",3)]\n",
        "columns=[\"Name\",\"Age\"]\n",
        "df = Spark.createDataFrame(data,columns)\n",
        "df.show()"
      ],
      "metadata": {
        "colab": {
          "base_uri": "https://localhost:8080/"
        },
        "id": "p2emymuHZiZ7",
        "outputId": "f50f81d4-d9f2-4029-d26f-bf079cb7e756"
      },
      "execution_count": 14,
      "outputs": [
        {
          "output_type": "stream",
          "name": "stdout",
          "text": [
            "+------+---+\n",
            "|  Name|Age|\n",
            "+------+---+\n",
            "|  nadi| 32|\n",
            "|  Jabi| 39|\n",
            "|Ayesha|  6|\n",
            "| Ayaan|  3|\n",
            "+------+---+\n",
            "\n"
          ]
        }
      ]
    },
    {
      "cell_type": "code",
      "source": [
        "from pyspark.sql.functions import col\n",
        "\n",
        "large_df = Spark.range(1, 1000000)\n",
        "result_df=large_df.select((col(\"id\")*2).alias(\"double_id\"))\n",
        "result_df.show(10)"
      ],
      "metadata": {
        "colab": {
          "base_uri": "https://localhost:8080/"
        },
        "id": "Rl9jg3nfcz7d",
        "outputId": "c8a6fa52-de13-4bd1-f2c3-e0d045774b52"
      },
      "execution_count": 16,
      "outputs": [
        {
          "output_type": "stream",
          "name": "stdout",
          "text": [
            "+---------+\n",
            "|double_id|\n",
            "+---------+\n",
            "|        2|\n",
            "|        4|\n",
            "|        6|\n",
            "|        8|\n",
            "|       10|\n",
            "|       12|\n",
            "|       14|\n",
            "|       16|\n",
            "|       18|\n",
            "|       20|\n",
            "+---------+\n",
            "only showing top 10 rows\n",
            "\n"
          ]
        }
      ]
    }
  ]
}