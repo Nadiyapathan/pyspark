{
  "nbformat": 4,
  "nbformat_minor": 0,
  "metadata": {
    "colab": {
      "provenance": [],
      "authorship_tag": "ABX9TyN8cXh4Ma4hvQM/+ux6aRiw",
      "include_colab_link": true
    },
    "kernelspec": {
      "name": "python3",
      "display_name": "Python 3"
    },
    "language_info": {
      "name": "python"
    }
  },
  "cells": [
    {
      "cell_type": "markdown",
      "metadata": {
        "id": "view-in-github",
        "colab_type": "text"
      },
      "source": [
        "<a href=\"https://colab.research.google.com/github/Nadiyapathan/pyspark/blob/main/dataframe.ipynb\" target=\"_parent\"><img src=\"https://colab.research.google.com/assets/colab-badge.svg\" alt=\"Open In Colab\"/></a>"
      ]
    },
    {
      "cell_type": "code",
      "execution_count": 1,
      "metadata": {
        "colab": {
          "base_uri": "https://localhost:8080/"
        },
        "id": "lZpW3xrXJlnh",
        "outputId": "c5c2f74a-563a-48c4-b4ae-65978ae09760"
      },
      "outputs": [
        {
          "output_type": "stream",
          "name": "stdout",
          "text": [
            "Requirement already satisfied: pyspark in /usr/local/lib/python3.11/dist-packages (3.5.5)\n",
            "Requirement already satisfied: py4j==0.10.9.7 in /usr/local/lib/python3.11/dist-packages (from pyspark) (0.10.9.7)\n"
          ]
        }
      ],
      "source": [
        "!pip install pyspark\n"
      ]
    },
    {
      "cell_type": "markdown",
      "source": [
        "CREATING DATAFRAME"
      ],
      "metadata": {
        "id": "CtQol2AhJ0Bb"
      }
    },
    {
      "cell_type": "markdown",
      "source": [
        "importing pyspark sql"
      ],
      "metadata": {
        "id": "wXv6lC3nKI7k"
      }
    },
    {
      "cell_type": "code",
      "source": [
        "from pyspark.sql import *\n"
      ],
      "metadata": {
        "id": "RFI0mMH-J7wP"
      },
      "execution_count": 15,
      "outputs": []
    },
    {
      "cell_type": "markdown",
      "source": [
        "CREATE THE STUDENTS\n"
      ],
      "metadata": {
        "id": "ATVO-9uwKeZc"
      }
    },
    {
      "cell_type": "code",
      "source": [
        "student=Row(\"firstname\",\"lastname\",\"age\",\"Email\",\"rollnumber\")"
      ],
      "metadata": {
        "id": "19J2JkmHKnO5"
      },
      "execution_count": 7,
      "outputs": []
    },
    {
      "cell_type": "code",
      "source": [
        "student1=student(\"nadiya\",\"pathan\",32,\"nadiya.pathan560@gmail.com\",21560)\n",
        "student2=student(\"nadi\",\"shaik\",35,\"nadi.shaik560@gmail.com\",21510)\n",
        "student3=student(\"bujji\",\"mohammad\",23,\"bujji.pathan@gmail.com\",21540)\n",
        "student4=student(\"diya\",\"lucky\",30,\"diya.lucky60@gmail.com\",21545)\n",
        "student5=student(\"ayyan\",\"yusuf\",12,\"ayaan.yusuf555@gmail.com\",21555)"
      ],
      "metadata": {
        "id": "0u9yen_ELb5M"
      },
      "execution_count": 12,
      "outputs": []
    },
    {
      "cell_type": "code",
      "source": [
        "department=Row(\"id\",\"name\")"
      ],
      "metadata": {
        "id": "Lml8mgdwXBZr"
      },
      "execution_count": 29,
      "outputs": []
    },
    {
      "cell_type": "markdown",
      "source": [],
      "metadata": {
        "id": "8BD1lT1wN8TN"
      }
    },
    {
      "cell_type": "markdown",
      "source": [
        "CREATE THE DEPARTMENTS"
      ],
      "metadata": {
        "id": "RDO-VCSzOuxb"
      }
    },
    {
      "cell_type": "code",
      "source": [
        "department1=Row(id='001',name='CSE')\n",
        "department2=Row(id='002',name='EEE')\n",
        "department3=Row(id='003',name='IT')\n",
        "department4=Row(id='004',name='ECE')\n",
        "department5=Row(id='001',name='CIVIL')\n",
        "\n",
        "\n"
      ],
      "metadata": {
        "id": "mq7MrdIeO2hr"
      },
      "execution_count": 30,
      "outputs": []
    },
    {
      "cell_type": "code",
      "source": [
        "print(student1)"
      ],
      "metadata": {
        "colab": {
          "base_uri": "https://localhost:8080/"
        },
        "id": "fCPrJNjrQgPP",
        "outputId": "b5fc436b-d050-449b-bdd9-e8b88119cfd0"
      },
      "execution_count": 13,
      "outputs": [
        {
          "output_type": "stream",
          "name": "stdout",
          "text": [
            "Row(firstname='nadiya', lastname='pathan', age=32, Email='nadiya.pathan560@gmail.com', rollnumber=21560)\n"
          ]
        }
      ]
    },
    {
      "cell_type": "markdown",
      "source": [
        "CREATE THE DEPARTMENTWITHSTUDENTS INSTANCES\n"
      ],
      "metadata": {
        "id": "84mz1JTgRBXZ"
      }
    },
    {
      "cell_type": "code",
      "source": [
        "from pyspark.sql import Row"
      ],
      "metadata": {
        "id": "tdvOmSauUnoA"
      },
      "execution_count": 23,
      "outputs": []
    },
    {
      "cell_type": "code",
      "source": [
        "departmentwithstudent1=Row(  department = department1, student=[student1,student2])\n",
        "departmentwithstudent2=Row(department = department2, student=[student2,student3])\n",
        "departmentwithstudent3=Row(department = department3, student=[student3,student4])\n",
        "departmentwithstudent4=Row(department = department4, student=[student4,student5])\n",
        "departmentwithstudent5=Row(department = department5, student=[student5,student2])\n"
      ],
      "metadata": {
        "id": "XCKJiFKkRTOz"
      },
      "execution_count": 31,
      "outputs": []
    },
    {
      "cell_type": "code",
      "source": [
        "print(departmentwithstudent4)"
      ],
      "metadata": {
        "colab": {
          "base_uri": "https://localhost:8080/"
        },
        "id": "2KX4jHEUWjAp",
        "outputId": "6679ae12-466d-4722-fe21-eea2c28d5d69"
      },
      "execution_count": 32,
      "outputs": [
        {
          "output_type": "stream",
          "name": "stdout",
          "text": [
            "Row(department=Row(id='004', name='ECE'), student=[Row(firstname='diya', lastname='lucky', age=30, Email='diya.lucky60@gmail.com', rollnumber=21545), Row(firstname='ayyan', lastname='yusuf', age=12, Email='ayaan.yusuf555@gmail.com', rollnumber=21555)])\n"
          ]
        }
      ]
    },
    {
      "cell_type": "markdown",
      "source": [
        "CREATING DATAFRAME\n"
      ],
      "metadata": {
        "id": "csrUQACOXzEz"
      }
    },
    {
      "cell_type": "code",
      "source": [
        "departmentwithstudent=(departmentwithstudent1,departmentwithstudent2,departmentwithstudent3)"
      ],
      "metadata": {
        "id": "sBC3FX4ZYlFs"
      },
      "execution_count": 37,
      "outputs": []
    },
    {
      "cell_type": "code",
      "source": [
        "from pyspark.context import SparkContext\n",
        "from pyspark.sql.session import SparkSession\n",
        "sc=SparkContext.getOrCreate()\n",
        "spark=SparkSession(sc)"
      ],
      "metadata": {
        "id": "8tVwPRz4Y6nN"
      },
      "execution_count": 33,
      "outputs": []
    },
    {
      "cell_type": "code",
      "source": [
        "df=spark.createDataFrame(departmentwithstudent)"
      ],
      "metadata": {
        "id": "ZKOMwZrZZ11o"
      },
      "execution_count": 38,
      "outputs": []
    },
    {
      "cell_type": "markdown",
      "source": [
        "Display dataframe"
      ],
      "metadata": {
        "id": "71eXmG0AaRGV"
      }
    },
    {
      "cell_type": "code",
      "source": [
        "display(df)"
      ],
      "metadata": {
        "colab": {
          "base_uri": "https://localhost:8080/",
          "height": 52
        },
        "id": "Ce2suAp7aXAx",
        "outputId": "ea6b6dbc-6df5-4681-8932-53c5ce9404bb"
      },
      "execution_count": 39,
      "outputs": [
        {
          "output_type": "display_data",
          "data": {
            "text/plain": [
              "DataFrame[department: struct<id:string,name:string>, student: array<struct<firstname:string,lastname:string,age:bigint,Email:string,rollnumber:bigint>>]"
            ]
          },
          "metadata": {}
        }
      ]
    },
    {
      "cell_type": "markdown",
      "source": [
        "Data FRAME from csv\n"
      ],
      "metadata": {
        "id": "whL7JFuOfk1y"
      }
    },
    {
      "cell_type": "code",
      "source": [
        "from pyspark.sql import SparkSession"
      ],
      "metadata": {
        "id": "Usm5-oG8fuVJ"
      },
      "execution_count": 1,
      "outputs": []
    },
    {
      "cell_type": "code",
      "source": [
        "spark=SparkSession.builder.appName('create dataframe from csv file').getOrCreate()\n"
      ],
      "metadata": {
        "id": "vK1DJBHpKnD1"
      },
      "execution_count": 3,
      "outputs": []
    },
    {
      "cell_type": "code",
      "source": [
        "import os\n",
        "print(os.path.exists(\"C:/Users/nadiy/Downloads/archive (2)/discounts.csv\"))\n"
      ],
      "metadata": {
        "colab": {
          "base_uri": "https://localhost:8080/"
        },
        "id": "N1--AmuwZgL9",
        "outputId": "f3bc8566-3ab0-410f-d2eb-1e4f46297393"
      },
      "execution_count": 25,
      "outputs": [
        {
          "output_type": "stream",
          "name": "stdout",
          "text": [
            "False\n"
          ]
        }
      ]
    },
    {
      "cell_type": "code",
      "source": [
        "dis_df = spark.read.csv(path=r\"/content/discounts.csv\")"
      ],
      "metadata": {
        "id": "IXNi6BTmau3q"
      },
      "execution_count": 28,
      "outputs": []
    },
    {
      "cell_type": "code",
      "source": [
        "dis_df.show()\n"
      ],
      "metadata": {
        "colab": {
          "base_uri": "https://localhost:8080/"
        },
        "id": "bzJBaraJdj3N",
        "outputId": "59bcb5a3-4bc6-45d0-9e63-c94c5b79b8de"
      },
      "execution_count": 29,
      "outputs": [
        {
          "output_type": "stream",
          "name": "stdout",
          "text": [
            "+----------+----------+-------+--------------------+---------+--------------------+\n",
            "|       _c0|       _c1|    _c2|                 _c3|      _c4|                 _c5|\n",
            "+----------+----------+-------+--------------------+---------+--------------------+\n",
            "|     Start|       End|Discont|         Description| Category|        Sub Category|\n",
            "|2020-01-01|2020-01-10|    0.4|40% discount duri...| Feminine|   Coats and Blazers|\n",
            "|2020-01-01|2020-01-10|    0.4|40% discount duri...| Feminine|Sweaters and Knit...|\n",
            "|2020-01-01|2020-01-10|    0.4|40% discount duri...|Masculine|   Coats and Blazers|\n",
            "|2020-01-01|2020-01-10|    0.4|40% discount duri...|Masculine|Sweaters and Swea...|\n",
            "|2020-01-01|2020-01-10|    0.4|40% discount duri...| Children|               Coats|\n",
            "|2020-01-01|2020-01-10|    0.4|40% discount duri...| Children|            Sweaters|\n",
            "|2020-03-15|2020-03-31|   0.35|35% discount duri...| Feminine|Dresses and Jumps...|\n",
            "|2020-03-15|2020-03-31|   0.35|35% discount duri...| Feminine|  Shirts and Blouses|\n",
            "|2020-03-15|2020-03-31|   0.35|35% discount duri...|Masculine|  T-shirts and Polos|\n",
            "|2020-03-15|2020-03-31|   0.35|35% discount duri...|Masculine|              Shirts|\n",
            "|2020-03-15|2020-03-31|   0.35|35% discount duri...| Children|Girl and Boy (1-5...|\n",
            "|2020-05-01|2020-05-15|   0.25|25% discount duri...| Feminine|   T-shirts and Tops|\n",
            "|2020-05-01|2020-05-15|   0.25|25% discount duri...| Feminine|   Skirts and Shorts|\n",
            "|2020-05-01|2020-05-15|   0.25|25% discount duri...| Feminine|Dresses and Jumps...|\n",
            "|2020-05-01|2020-05-15|   0.25|25% discount duri...|Masculine|  T-shirts and Polos|\n",
            "|2020-05-01|2020-05-15|   0.25|25% discount duri...|Masculine|     Pants and Jeans|\n",
            "|2020-05-01|2020-05-15|   0.25|25% discount duri...| Children|Girl and Boy (1-5...|\n",
            "|2020-05-01|2020-05-15|   0.25|25% discount duri...| Children|             Pajamas|\n",
            "|2020-05-01|2020-05-15|   0.25|25% discount duri...| Children|         Accessories|\n",
            "+----------+----------+-------+--------------------+---------+--------------------+\n",
            "only showing top 20 rows\n",
            "\n"
          ]
        }
      ]
    }
  ]
}