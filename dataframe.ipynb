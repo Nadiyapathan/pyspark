{
  "nbformat": 4,
  "nbformat_minor": 0,
  "metadata": {
    "colab": {
      "provenance": [],
      "authorship_tag": "ABX9TyOTpyNUCnDEZMQ68WiVEYJ9",
      "include_colab_link": true
    },
    "kernelspec": {
      "name": "python3",
      "display_name": "Python 3"
    },
    "language_info": {
      "name": "python"
    }
  },
  "cells": [
    {
      "cell_type": "markdown",
      "metadata": {
        "id": "view-in-github",
        "colab_type": "text"
      },
      "source": [
        "<a href=\"https://colab.research.google.com/github/Nadiyapathan/pyspark/blob/main/dataframe.ipynb\" target=\"_parent\"><img src=\"https://colab.research.google.com/assets/colab-badge.svg\" alt=\"Open In Colab\"/></a>"
      ]
    },
    {
      "cell_type": "code",
      "execution_count": 1,
      "metadata": {
        "colab": {
          "base_uri": "https://localhost:8080/"
        },
        "id": "lZpW3xrXJlnh",
        "outputId": "c5c2f74a-563a-48c4-b4ae-65978ae09760"
      },
      "outputs": [
        {
          "output_type": "stream",
          "name": "stdout",
          "text": [
            "Requirement already satisfied: pyspark in /usr/local/lib/python3.11/dist-packages (3.5.5)\n",
            "Requirement already satisfied: py4j==0.10.9.7 in /usr/local/lib/python3.11/dist-packages (from pyspark) (0.10.9.7)\n"
          ]
        }
      ],
      "source": [
        "!pip install pyspark\n"
      ]
    },
    {
      "cell_type": "markdown",
      "source": [
        "CREATING DATAFRAME"
      ],
      "metadata": {
        "id": "CtQol2AhJ0Bb"
      }
    },
    {
      "cell_type": "markdown",
      "source": [
        "importing pyspark sql"
      ],
      "metadata": {
        "id": "wXv6lC3nKI7k"
      }
    },
    {
      "cell_type": "code",
      "source": [
        "from pyspark.sql import *\n"
      ],
      "metadata": {
        "id": "RFI0mMH-J7wP"
      },
      "execution_count": 15,
      "outputs": []
    },
    {
      "cell_type": "markdown",
      "source": [
        "CREATE THE STUDENTS\n"
      ],
      "metadata": {
        "id": "ATVO-9uwKeZc"
      }
    },
    {
      "cell_type": "code",
      "source": [
        "student=Row(\"firstname\",\"lastname\",\"age\",\"Email\",\"rollnumber\")"
      ],
      "metadata": {
        "id": "19J2JkmHKnO5"
      },
      "execution_count": 7,
      "outputs": []
    },
    {
      "cell_type": "code",
      "source": [
        "student1=student(\"nadiya\",\"pathan\",32,\"nadiya.pathan560@gmail.com\",21560)\n",
        "student2=student(\"nadi\",\"shaik\",35,\"nadi.shaik560@gmail.com\",21510)\n",
        "student3=student(\"bujji\",\"mohammad\",23,\"bujji.pathan@gmail.com\",21540)\n",
        "student4=student(\"diya\",\"lucky\",30,\"diya.lucky60@gmail.com\",21545)\n",
        "student5=student(\"ayyan\",\"yusuf\",12,\"ayaan.yusuf555@gmail.com\",21555)"
      ],
      "metadata": {
        "id": "0u9yen_ELb5M"
      },
      "execution_count": 12,
      "outputs": []
    },
    {
      "cell_type": "code",
      "source": [
        "department=Row(\"id\",\"name\")"
      ],
      "metadata": {
        "id": "Lml8mgdwXBZr"
      },
      "execution_count": 29,
      "outputs": []
    },
    {
      "cell_type": "markdown",
      "source": [],
      "metadata": {
        "id": "8BD1lT1wN8TN"
      }
    },
    {
      "cell_type": "markdown",
      "source": [
        "CREATE THE DEPARTMENTS"
      ],
      "metadata": {
        "id": "RDO-VCSzOuxb"
      }
    },
    {
      "cell_type": "code",
      "source": [
        "department1=Row(id='001',name='CSE')\n",
        "department2=Row(id='002',name='EEE')\n",
        "department3=Row(id='003',name='IT')\n",
        "department4=Row(id='004',name='ECE')\n",
        "department5=Row(id='001',name='CIVIL')\n",
        "\n",
        "\n"
      ],
      "metadata": {
        "id": "mq7MrdIeO2hr"
      },
      "execution_count": 30,
      "outputs": []
    },
    {
      "cell_type": "code",
      "source": [
        "print(student1)"
      ],
      "metadata": {
        "colab": {
          "base_uri": "https://localhost:8080/"
        },
        "id": "fCPrJNjrQgPP",
        "outputId": "b5fc436b-d050-449b-bdd9-e8b88119cfd0"
      },
      "execution_count": 13,
      "outputs": [
        {
          "output_type": "stream",
          "name": "stdout",
          "text": [
            "Row(firstname='nadiya', lastname='pathan', age=32, Email='nadiya.pathan560@gmail.com', rollnumber=21560)\n"
          ]
        }
      ]
    },
    {
      "cell_type": "markdown",
      "source": [
        "CREATE THE DEPARTMENTWITHSTUDENTS INSTANCES\n"
      ],
      "metadata": {
        "id": "84mz1JTgRBXZ"
      }
    },
    {
      "cell_type": "code",
      "source": [
        "from pyspark.sql import Row"
      ],
      "metadata": {
        "id": "tdvOmSauUnoA"
      },
      "execution_count": 23,
      "outputs": []
    },
    {
      "cell_type": "code",
      "source": [
        "departmentwithstudent1=Row(  department = department1, student=[student1,student2])\n",
        "departmentwithstudent2=Row(department = department2, student=[student2,student3])\n",
        "departmentwithstudent3=Row(department = department3, student=[student3,student4])\n",
        "departmentwithstudent4=Row(department = department4, student=[student4,student5])\n",
        "departmentwithstudent5=Row(department = department5, student=[student5,student2])\n"
      ],
      "metadata": {
        "id": "XCKJiFKkRTOz"
      },
      "execution_count": 31,
      "outputs": []
    },
    {
      "cell_type": "code",
      "source": [
        "print(departmentwithstudent4)"
      ],
      "metadata": {
        "colab": {
          "base_uri": "https://localhost:8080/"
        },
        "id": "2KX4jHEUWjAp",
        "outputId": "6679ae12-466d-4722-fe21-eea2c28d5d69"
      },
      "execution_count": 32,
      "outputs": [
        {
          "output_type": "stream",
          "name": "stdout",
          "text": [
            "Row(department=Row(id='004', name='ECE'), student=[Row(firstname='diya', lastname='lucky', age=30, Email='diya.lucky60@gmail.com', rollnumber=21545), Row(firstname='ayyan', lastname='yusuf', age=12, Email='ayaan.yusuf555@gmail.com', rollnumber=21555)])\n"
          ]
        }
      ]
    },
    {
      "cell_type": "markdown",
      "source": [
        "CREATING DATAFRAME\n"
      ],
      "metadata": {
        "id": "csrUQACOXzEz"
      }
    },
    {
      "cell_type": "code",
      "source": [
        "departmentwithstudent=(departmentwithstudent1,departmentwithstudent2,departmentwithstudent3)"
      ],
      "metadata": {
        "id": "sBC3FX4ZYlFs"
      },
      "execution_count": 37,
      "outputs": []
    },
    {
      "cell_type": "code",
      "source": [
        "from pyspark.context import SparkContext\n",
        "from pyspark.sql.session import SparkSession\n",
        "sc=SparkContext.getOrCreate()\n",
        "spark=SparkSession(sc)"
      ],
      "metadata": {
        "id": "8tVwPRz4Y6nN"
      },
      "execution_count": 33,
      "outputs": []
    },
    {
      "cell_type": "code",
      "source": [
        "df=spark.createDataFrame(departmentwithstudent)"
      ],
      "metadata": {
        "id": "ZKOMwZrZZ11o"
      },
      "execution_count": 38,
      "outputs": []
    },
    {
      "cell_type": "markdown",
      "source": [
        "Display dataframe"
      ],
      "metadata": {
        "id": "71eXmG0AaRGV"
      }
    },
    {
      "cell_type": "code",
      "source": [
        "display(df)"
      ],
      "metadata": {
        "colab": {
          "base_uri": "https://localhost:8080/",
          "height": 52
        },
        "id": "Ce2suAp7aXAx",
        "outputId": "ea6b6dbc-6df5-4681-8932-53c5ce9404bb"
      },
      "execution_count": 39,
      "outputs": [
        {
          "output_type": "display_data",
          "data": {
            "text/plain": [
              "DataFrame[department: struct<id:string,name:string>, student: array<struct<firstname:string,lastname:string,age:bigint,Email:string,rollnumber:bigint>>]"
            ]
          },
          "metadata": {}
        }
      ]
    },
    {
      "cell_type": "markdown",
      "source": [
        "Data FRAME from csv\n"
      ],
      "metadata": {
        "id": "whL7JFuOfk1y"
      }
    },
    {
      "cell_type": "code",
      "source": [
        "from pyspark.sql import SparkSession"
      ],
      "metadata": {
        "id": "Usm5-oG8fuVJ"
      },
      "execution_count": 1,
      "outputs": []
    },
    {
      "cell_type": "code",
      "source": [
        "spark=SparkSession.builder.appName('create dataframe from csv file').getOrCreate()\n"
      ],
      "metadata": {
        "id": "vK1DJBHpKnD1"
      },
      "execution_count": 3,
      "outputs": []
    },
    {
      "cell_type": "code",
      "source": [
        "dis_df = spark.read.csv(path=r\"/content/discounts.csv\",header=True)"
      ],
      "metadata": {
        "id": "IXNi6BTmau3q"
      },
      "execution_count": 39,
      "outputs": []
    },
    {
      "cell_type": "code",
      "source": [
        "dis_df.show()\n"
      ],
      "metadata": {
        "colab": {
          "base_uri": "https://localhost:8080/"
        },
        "id": "bzJBaraJdj3N",
        "outputId": "3b32bb90-4c0d-49a8-bf91-8004e528eec2"
      },
      "execution_count": 40,
      "outputs": [
        {
          "output_type": "stream",
          "name": "stdout",
          "text": [
            "+----------+----------+-------+--------------------+---------+--------------------+\n",
            "|     Start|       End|Discont|         Description| Category|        Sub Category|\n",
            "+----------+----------+-------+--------------------+---------+--------------------+\n",
            "|2020-01-01|2020-01-10|    0.4|40% discount duri...| Feminine|   Coats and Blazers|\n",
            "|2020-01-01|2020-01-10|    0.4|40% discount duri...| Feminine|Sweaters and Knit...|\n",
            "|2020-01-01|2020-01-10|    0.4|40% discount duri...|Masculine|   Coats and Blazers|\n",
            "|2020-01-01|2020-01-10|    0.4|40% discount duri...|Masculine|Sweaters and Swea...|\n",
            "|2020-01-01|2020-01-10|    0.4|40% discount duri...| Children|               Coats|\n",
            "|2020-01-01|2020-01-10|    0.4|40% discount duri...| Children|            Sweaters|\n",
            "|2020-03-15|2020-03-31|   0.35|35% discount duri...| Feminine|Dresses and Jumps...|\n",
            "|2020-03-15|2020-03-31|   0.35|35% discount duri...| Feminine|  Shirts and Blouses|\n",
            "|2020-03-15|2020-03-31|   0.35|35% discount duri...|Masculine|  T-shirts and Polos|\n",
            "|2020-03-15|2020-03-31|   0.35|35% discount duri...|Masculine|              Shirts|\n",
            "|2020-03-15|2020-03-31|   0.35|35% discount duri...| Children|Girl and Boy (1-5...|\n",
            "|2020-05-01|2020-05-15|   0.25|25% discount duri...| Feminine|   T-shirts and Tops|\n",
            "|2020-05-01|2020-05-15|   0.25|25% discount duri...| Feminine|   Skirts and Shorts|\n",
            "|2020-05-01|2020-05-15|   0.25|25% discount duri...| Feminine|Dresses and Jumps...|\n",
            "|2020-05-01|2020-05-15|   0.25|25% discount duri...|Masculine|  T-shirts and Polos|\n",
            "|2020-05-01|2020-05-15|   0.25|25% discount duri...|Masculine|     Pants and Jeans|\n",
            "|2020-05-01|2020-05-15|   0.25|25% discount duri...| Children|Girl and Boy (1-5...|\n",
            "|2020-05-01|2020-05-15|   0.25|25% discount duri...| Children|             Pajamas|\n",
            "|2020-05-01|2020-05-15|   0.25|25% discount duri...| Children|         Accessories|\n",
            "|2020-09-01|2020-09-15|   0.45|45% discount duri...| Feminine|Dresses and Jumps...|\n",
            "+----------+----------+-------+--------------------+---------+--------------------+\n",
            "only showing top 20 rows\n",
            "\n"
          ]
        }
      ]
    },
    {
      "cell_type": "code",
      "source": [
        "dis_df.count()"
      ],
      "metadata": {
        "colab": {
          "base_uri": "https://localhost:8080/"
        },
        "id": "SdCuGpE3eQH3",
        "outputId": "31963402-6382-4548-b7e4-098f9499a9f1"
      },
      "execution_count": 30,
      "outputs": [
        {
          "output_type": "execute_result",
          "data": {
            "text/plain": [
              "182"
            ]
          },
          "metadata": {},
          "execution_count": 30
        }
      ]
    },
    {
      "cell_type": "code",
      "source": [
        "dis_df.columns"
      ],
      "metadata": {
        "colab": {
          "base_uri": "https://localhost:8080/"
        },
        "id": "x-r2bu3Segu0",
        "outputId": "9da91b93-01ed-47d8-ba74-e7064856523d"
      },
      "execution_count": 41,
      "outputs": [
        {
          "output_type": "execute_result",
          "data": {
            "text/plain": [
              "['Start', 'End', 'Discont', 'Description', 'Category', 'Sub Category']"
            ]
          },
          "metadata": {},
          "execution_count": 41
        }
      ]
    },
    {
      "cell_type": "code",
      "source": [
        "len(dis_df.columns)"
      ],
      "metadata": {
        "colab": {
          "base_uri": "https://localhost:8080/"
        },
        "id": "oGTfjnkSeqZP",
        "outputId": "7692d2d3-5a4b-44ff-e45b-9051a20bfe98"
      },
      "execution_count": 32,
      "outputs": [
        {
          "output_type": "execute_result",
          "data": {
            "text/plain": [
              "6"
            ]
          },
          "metadata": {},
          "execution_count": 32
        }
      ]
    },
    {
      "cell_type": "code",
      "source": [
        "dis_df.describe('start').show()"
      ],
      "metadata": {
        "colab": {
          "base_uri": "https://localhost:8080/"
        },
        "id": "XMGtWwEBfAGw",
        "outputId": "d86c151e-2912-491a-e321-54083fe62beb"
      },
      "execution_count": 43,
      "outputs": [
        {
          "output_type": "stream",
          "name": "stdout",
          "text": [
            "+-------+----------+\n",
            "|summary|     start|\n",
            "+-------+----------+\n",
            "|  count|       181|\n",
            "|   mean|      NULL|\n",
            "| stddev|      NULL|\n",
            "|    min|2020-01-01|\n",
            "|    max|2025-03-15|\n",
            "+-------+----------+\n",
            "\n"
          ]
        }
      ]
    },
    {
      "cell_type": "code",
      "source": [
        "dis_df.describe('end').show()"
      ],
      "metadata": {
        "colab": {
          "base_uri": "https://localhost:8080/"
        },
        "id": "DzLMrQHhfX5K",
        "outputId": "a762c900-f926-49ff-d4ec-e4e2ee4b7de2"
      },
      "execution_count": 45,
      "outputs": [
        {
          "output_type": "stream",
          "name": "stdout",
          "text": [
            "+-------+----------+\n",
            "|summary|       end|\n",
            "+-------+----------+\n",
            "|  count|       181|\n",
            "|   mean|      NULL|\n",
            "| stddev|      NULL|\n",
            "|    min|2020-01-10|\n",
            "|    max|2025-03-31|\n",
            "+-------+----------+\n",
            "\n"
          ]
        }
      ]
    },
    {
      "cell_type": "code",
      "source": [
        "dis_df.filter(dis_df.Discont>0.45).count()"
      ],
      "metadata": {
        "colab": {
          "base_uri": "https://localhost:8080/"
        },
        "id": "C6XmWDdsgbNe",
        "outputId": "38c4b2c7-f061-49a1-f730-552c81f11bf8"
      },
      "execution_count": 48,
      "outputs": [
        {
          "output_type": "execute_result",
          "data": {
            "text/plain": [
              "10"
            ]
          },
          "metadata": {},
          "execution_count": 48
        }
      ]
    },
    {
      "cell_type": "code",
      "source": [
        "dis_df.orderBy(dis_df.Start).show()\n"
      ],
      "metadata": {
        "colab": {
          "base_uri": "https://localhost:8080/"
        },
        "id": "3GqKuMfAiw-M",
        "outputId": "cb2ec36c-b3cd-4f43-cc50-602d5ed48633"
      },
      "execution_count": 50,
      "outputs": [
        {
          "output_type": "stream",
          "name": "stdout",
          "text": [
            "+----------+----------+-------+--------------------+---------+--------------------+\n",
            "|     Start|       End|Discont|         Description| Category|        Sub Category|\n",
            "+----------+----------+-------+--------------------+---------+--------------------+\n",
            "|2020-01-01|2020-01-10|    0.4|40% discount duri...| Feminine|   Coats and Blazers|\n",
            "|2020-01-01|2020-01-10|    0.4|40% discount duri...| Feminine|Sweaters and Knit...|\n",
            "|2020-01-01|2020-01-10|    0.4|40% discount duri...|Masculine|   Coats and Blazers|\n",
            "|2020-01-01|2020-01-10|    0.4|40% discount duri...|Masculine|Sweaters and Swea...|\n",
            "|2020-01-01|2020-01-10|    0.4|40% discount duri...| Children|               Coats|\n",
            "|2020-01-01|2020-01-10|    0.4|40% discount duri...| Children|            Sweaters|\n",
            "|2020-03-15|2020-03-31|   0.35|35% discount duri...| Feminine|Dresses and Jumps...|\n",
            "|2020-03-15|2020-03-31|   0.35|35% discount duri...| Feminine|  Shirts and Blouses|\n",
            "|2020-03-15|2020-03-31|   0.35|35% discount duri...|Masculine|  T-shirts and Polos|\n",
            "|2020-03-15|2020-03-31|   0.35|35% discount duri...|Masculine|              Shirts|\n",
            "|2020-03-15|2020-03-31|   0.35|35% discount duri...| Children|Girl and Boy (1-5...|\n",
            "|2020-05-01|2020-05-15|   0.25|25% discount duri...| Feminine|   T-shirts and Tops|\n",
            "|2020-05-01|2020-05-15|   0.25|25% discount duri...| Feminine|   Skirts and Shorts|\n",
            "|2020-05-01|2020-05-15|   0.25|25% discount duri...| Feminine|Dresses and Jumps...|\n",
            "|2020-05-01|2020-05-15|   0.25|25% discount duri...|Masculine|  T-shirts and Polos|\n",
            "|2020-05-01|2020-05-15|   0.25|25% discount duri...|Masculine|     Pants and Jeans|\n",
            "|2020-05-01|2020-05-15|   0.25|25% discount duri...| Children|Girl and Boy (1-5...|\n",
            "|2020-05-01|2020-05-15|   0.25|25% discount duri...| Children|             Pajamas|\n",
            "|2020-05-01|2020-05-15|   0.25|25% discount duri...| Children|         Accessories|\n",
            "|2020-09-01|2020-09-15|   0.45|45% discount duri...| Feminine|Dresses and Jumps...|\n",
            "+----------+----------+-------+--------------------+---------+--------------------+\n",
            "only showing top 20 rows\n",
            "\n"
          ]
        }
      ]
    },
    {
      "cell_type": "code",
      "source": [
        "dis_df.printSchema()"
      ],
      "metadata": {
        "colab": {
          "base_uri": "https://localhost:8080/"
        },
        "id": "ubOYCEdclr9v",
        "outputId": "d3f46897-0f12-4ab6-e8bf-a25abda5b280"
      },
      "execution_count": 55,
      "outputs": [
        {
          "output_type": "stream",
          "name": "stdout",
          "text": [
            "root\n",
            " |-- Start: string (nullable = true)\n",
            " |-- End: string (nullable = true)\n",
            " |-- Discont: string (nullable = true)\n",
            " |-- Description: string (nullable = true)\n",
            " |-- Category: string (nullable = true)\n",
            " |-- Sub Category: string (nullable = true)\n",
            "\n"
          ]
        }
      ]
    }
  ]
}