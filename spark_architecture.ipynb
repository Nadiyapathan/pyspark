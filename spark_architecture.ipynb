{
  "nbformat": 4,
  "nbformat_minor": 0,
  "metadata": {
    "colab": {
      "provenance": [],
      "authorship_tag": "ABX9TyMshvqKX7Z/neiJrbb+Ytlu",
      "include_colab_link": true
    },
    "kernelspec": {
      "name": "python3",
      "display_name": "Python 3"
    },
    "language_info": {
      "name": "python"
    }
  },
  "cells": [
    {
      "cell_type": "markdown",
      "metadata": {
        "id": "view-in-github",
        "colab_type": "text"
      },
      "source": [
        "<a href=\"https://colab.research.google.com/github/Nadiyapathan/pyspark/blob/main/spark_architecture.ipynb\" target=\"_parent\"><img src=\"https://colab.research.google.com/assets/colab-badge.svg\" alt=\"Open In Colab\"/></a>"
      ]
    },
    {
      "cell_type": "code",
      "execution_count": 1,
      "metadata": {
        "colab": {
          "base_uri": "https://localhost:8080/"
        },
        "id": "MzouInZ_yNlC",
        "outputId": "b49c3945-4d24-44da-ac5d-9eee54e658ed"
      },
      "outputs": [
        {
          "output_type": "stream",
          "name": "stdout",
          "text": [
            "Requirement already satisfied: pyspark in /usr/local/lib/python3.11/dist-packages (3.5.5)\n",
            "Requirement already satisfied: py4j==0.10.9.7 in /usr/local/lib/python3.11/dist-packages (from pyspark) (0.10.9.7)\n",
            "<pyspark.sql.session.SparkSession object at 0x79c6dd633b90>\n"
          ]
        }
      ],
      "source": [
        "!pip install pyspark\n",
        "\n",
        "from pyspark.sql import SparkSession\n",
        "\n",
        "\n",
        "spark = SparkSession.builder.appName(\"ColabSpark\").getOrCreate()\n",
        "\n",
        "print(spark)"
      ]
    },
    {
      "cell_type": "code",
      "source": [
        "\n",
        "from pyspark.sql import Row\n",
        "\n",
        "data = [Row(id=1, name=\"Jabi\", age=39),\n",
        "        Row(id=2, name=\"Nadi\", age=34),\n",
        "        Row(id=3, name=\"Ayesha\", age=6),\n",
        "        Row(id=4, name=\"Ayaan\",age=3)]\n",
        "\n",
        "df = spark.createDataFrame(data)\n",
        "df.show()"
      ],
      "metadata": {
        "colab": {
          "base_uri": "https://localhost:8080/"
        },
        "id": "ndlpnRVmzOjA",
        "outputId": "0c170be3-da95-4367-dc57-55bcb66f9b29"
      },
      "execution_count": 3,
      "outputs": [
        {
          "output_type": "stream",
          "name": "stdout",
          "text": [
            "+---+------+---+\n",
            "| id|  name|age|\n",
            "+---+------+---+\n",
            "|  1|  Jabi| 39|\n",
            "|  2|  Nadi| 34|\n",
            "|  3|Ayesha|  6|\n",
            "|  4| Ayaan|  3|\n",
            "+---+------+---+\n",
            "\n"
          ]
        }
      ]
    },
    {
      "cell_type": "code",
      "source": [
        "\n",
        "df.select(\"name\", \"age\").show()\n",
        "\n",
        "df.filter(df.age > 32).show()\n"
      ],
      "metadata": {
        "colab": {
          "base_uri": "https://localhost:8080/"
        },
        "id": "f8L3Epkuz3QH",
        "outputId": "2f96bb1e-e009-4822-cd13-f4fde6349ebc"
      },
      "execution_count": 4,
      "outputs": [
        {
          "output_type": "stream",
          "name": "stdout",
          "text": [
            "+------+---+\n",
            "|  name|age|\n",
            "+------+---+\n",
            "|  Jabi| 39|\n",
            "|  Nadi| 34|\n",
            "|Ayesha|  6|\n",
            "| Ayaan|  3|\n",
            "+------+---+\n",
            "\n",
            "+---+----+---+\n",
            "| id|name|age|\n",
            "+---+----+---+\n",
            "|  1|Jabi| 39|\n",
            "|  2|Nadi| 34|\n",
            "+---+----+---+\n",
            "\n"
          ]
        }
      ]
    },
    {
      "cell_type": "code",
      "source": [
        "\n",
        "df.groupBy(\"age\").count().show()\n"
      ],
      "metadata": {
        "colab": {
          "base_uri": "https://localhost:8080/"
        },
        "id": "lZoBNjnt0Jwu",
        "outputId": "9548c6e3-1415-42cf-b3c8-22adccb358ea"
      },
      "execution_count": 5,
      "outputs": [
        {
          "output_type": "stream",
          "name": "stdout",
          "text": [
            "+---+-----+\n",
            "|age|count|\n",
            "+---+-----+\n",
            "| 34|    1|\n",
            "| 39|    1|\n",
            "|  6|    1|\n",
            "|  3|    1|\n",
            "+---+-----+\n",
            "\n"
          ]
        }
      ]
    },
    {
      "cell_type": "code",
      "source": [
        "\n",
        "rdd = spark.sparkContext.parallelize([\"hello world\", \"hello PySpark\", \"hello Spark\"])\n",
        "words = rdd.flatMap(lambda line: line.split(\" \"))\n",
        "word_counts = words.map(lambda word: (word, 1)).reduceByKey(lambda a, b: a + b)\n",
        "word_counts.collect()"
      ],
      "metadata": {
        "colab": {
          "base_uri": "https://localhost:8080/"
        },
        "id": "Crvxqg7J0a11",
        "outputId": "e48a8cd9-55bf-4334-9432-a84cdc35cb6d"
      },
      "execution_count": 6,
      "outputs": [
        {
          "output_type": "execute_result",
          "data": {
            "text/plain": [
              "[('hello', 3), ('world', 1), ('PySpark', 1), ('Spark', 1)]"
            ]
          },
          "metadata": {},
          "execution_count": 6
        }
      ]
    },
    {
      "cell_type": "code",
      "source": [
        "\n",
        "sc = spark.sparkContext\n",
        "print(\"Number of Executors:\", sc.defaultParallelism)\n"
      ],
      "metadata": {
        "colab": {
          "base_uri": "https://localhost:8080/"
        },
        "id": "Sp90sYm40iLr",
        "outputId": "fb2d1f0e-3469-4c5c-e14f-53972b6b13b2"
      },
      "execution_count": 7,
      "outputs": [
        {
          "output_type": "stream",
          "name": "stdout",
          "text": [
            "Number of Executors: 2\n"
          ]
        }
      ]
    },
    {
      "cell_type": "code",
      "source": [
        "rdd = spark.sparkContext.parallelize([1, 2, 3, 4, 5], numSlices=2)\n",
        "\n",
        "squared_rdd = rdd.map(lambda x: x * x)\n",
        "\n",
        "print(squared_rdd.collect())\n"
      ],
      "metadata": {
        "colab": {
          "base_uri": "https://localhost:8080/"
        },
        "id": "t5InYhQy0m-a",
        "outputId": "60b63196-6a2a-4281-9c0c-efb172025cb5"
      },
      "execution_count": 9,
      "outputs": [
        {
          "output_type": "stream",
          "name": "stdout",
          "text": [
            "[1, 4, 9, 16, 25]\n"
          ]
        }
      ]
    },
    {
      "cell_type": "code",
      "source": [
        "print(sc.master)\n",
        "\n"
      ],
      "metadata": {
        "colab": {
          "base_uri": "https://localhost:8080/"
        },
        "id": "TNBwF_7Q0y6z",
        "outputId": "e27a9c20-867b-42f8-8b08-1b5dfb81b798"
      },
      "execution_count": 10,
      "outputs": [
        {
          "output_type": "stream",
          "name": "stdout",
          "text": [
            "local[*]\n"
          ]
        }
      ]
    },
    {
      "cell_type": "code",
      "source": [
        "\n",
        "df.cache()\n",
        "\n",
        "df.count()\n",
        "\n",
        "print(\"Is Cached?\", df.is_cached)"
      ],
      "metadata": {
        "colab": {
          "base_uri": "https://localhost:8080/"
        },
        "id": "66MIv2N904Xh",
        "outputId": "eda4d8aa-6ad2-41ed-c6f9-0077b6a6323a"
      },
      "execution_count": 11,
      "outputs": [
        {
          "output_type": "stream",
          "name": "stdout",
          "text": [
            "Is Cached? True\n"
          ]
        }
      ]
    },
    {
      "cell_type": "code",
      "source": [
        "\n",
        "from pyspark.sql.functions import col\n",
        "\n",
        "data = [(1, \"Alice\", \"Math\"), (2, \"Bob\", \"Science\"), (3, \"Charlie\", \"Math\"), (4, \"David\", \"Science\")]\n",
        "df = spark.createDataFrame(data, [\"id\", \"name\", \"subject\"])\n",
        "\n",
        "df_repartitioned = df.repartition(2)\n",
        "\n",
        "df_repartitioned.groupBy(\"subject\").count().show()"
      ],
      "metadata": {
        "colab": {
          "base_uri": "https://localhost:8080/"
        },
        "id": "_R5OUQe2072Y",
        "outputId": "1e71a469-e166-45a3-f117-98eb5b321069"
      },
      "execution_count": 12,
      "outputs": [
        {
          "output_type": "stream",
          "name": "stdout",
          "text": [
            "+-------+-----+\n",
            "|subject|count|\n",
            "+-------+-----+\n",
            "|Science|    2|\n",
            "|   Math|    2|\n",
            "+-------+-----+\n",
            "\n"
          ]
        }
      ]
    },
    {
      "cell_type": "code",
      "source": [
        "print(\"Number of Partitions:\", rdd.getNumPartitions())\n",
        "\n",
        "def print_partition(index, iterator):\n",
        "    return [(\"Partition: \" + str(index), list(iterator))]\n",
        "\n",
        "partition_rdd = rdd.mapPartitionsWithIndex(print_partition)\n",
        "print(partition_rdd.collect())\n"
      ],
      "metadata": {
        "colab": {
          "base_uri": "https://localhost:8080/"
        },
        "id": "Gdbi51tC1FXC",
        "outputId": "fd134d17-009b-4c94-d41a-d24b61fc927f"
      },
      "execution_count": 13,
      "outputs": [
        {
          "output_type": "stream",
          "name": "stdout",
          "text": [
            "Number of Partitions: 2\n",
            "[('Partition: 0', [1, 2]), ('Partition: 1', [3, 4, 5])]\n"
          ]
        }
      ]
    }
  ]
}