{
  "nbformat": 4,
  "nbformat_minor": 0,
  "metadata": {
    "colab": {
      "provenance": [],
      "toc_visible": true,
      "authorship_tag": "ABX9TyPEz5l6ykZp2uD36xtDyal/",
      "include_colab_link": true
    },
    "kernelspec": {
      "name": "python3",
      "display_name": "Python 3"
    },
    "language_info": {
      "name": "python"
    }
  },
  "cells": [
    {
      "cell_type": "markdown",
      "metadata": {
        "id": "view-in-github",
        "colab_type": "text"
      },
      "source": [
        "<a href=\"https://colab.research.google.com/github/Nadiyapathan/pyspark/blob/main/RDD.ipynb\" target=\"_parent\"><img src=\"https://colab.research.google.com/assets/colab-badge.svg\" alt=\"Open In Colab\"/></a>"
      ]
    },
    {
      "cell_type": "code",
      "execution_count": null,
      "metadata": {
        "colab": {
          "base_uri": "https://localhost:8080/"
        },
        "id": "H7-CBERLKuG_",
        "outputId": "1ac11bba-1ba6-430c-e568-d3ab93c8b504"
      },
      "outputs": [
        {
          "output_type": "stream",
          "name": "stdout",
          "text": [
            "Requirement already satisfied: pyspark in /usr/local/lib/python3.11/dist-packages (3.5.5)\n",
            "Requirement already satisfied: py4j==0.10.9.7 in /usr/local/lib/python3.11/dist-packages (from pyspark) (0.10.9.7)\n"
          ]
        }
      ],
      "source": [
        "!pip install pyspark\n"
      ]
    },
    {
      "cell_type": "code",
      "source": [
        "from pyspark import SparkContext\n",
        "sc=SparkContext.getOrCreate()"
      ],
      "metadata": {
        "id": "UMhmvgTDLCOy"
      },
      "execution_count": 4,
      "outputs": []
    },
    {
      "cell_type": "code",
      "source": [
        "ex_rdd=sc.parallelize([16,24,32,40])\n",
        "print(ex_rdd.map(lambda x:x*10).collect())\n"
      ],
      "metadata": {
        "colab": {
          "base_uri": "https://localhost:8080/"
        },
        "id": "Z60CJNskLn8c",
        "outputId": "a180618d-7860-4b13-d546-f3769c8b70f2"
      },
      "execution_count": null,
      "outputs": [
        {
          "output_type": "stream",
          "name": "stdout",
          "text": [
            "[160, 240, 320, 400]\n"
          ]
        }
      ]
    },
    {
      "cell_type": "code",
      "source": [
        "f_rdd=sc.parallelize([12,10,50,80,60,78,21,30,64,85,24])\n",
        "print(f_rdd.filter(lambda x:x%2==0).collect())"
      ],
      "metadata": {
        "colab": {
          "base_uri": "https://localhost:8080/"
        },
        "id": "Y1Ec4GMFMiei",
        "outputId": "f2b5b408-2d48-4dc8-f449-4721d83d97a4"
      },
      "execution_count": null,
      "outputs": [
        {
          "output_type": "stream",
          "name": "stdout",
          "text": [
            "[12, 10, 50, 80, 60, 78, 30, 64, 24]\n"
          ]
        }
      ]
    },
    {
      "cell_type": "code",
      "source": [
        "input=sc.parallelize([24,54,84,50,62,30,45,78,68,36,46,50])\n",
        "u_rdd1=input.filter(lambda x: x % 3 == 0)\n",
        "u_rdd2=input.filter(lambda x: x % 6 == 0)\n",
        "print(u_rdd1.union(u_rdd2).collect())\n"
      ],
      "metadata": {
        "colab": {
          "base_uri": "https://localhost:8080/"
        },
        "id": "NEW9nRvQNh1G",
        "outputId": "ba6a1f60-6d42-4612-c846-0e41ef02dcb4"
      },
      "execution_count": null,
      "outputs": [
        {
          "output_type": "stream",
          "name": "stdout",
          "text": [
            "[24, 54, 84, 30, 45, 78, 36, 24, 54, 84, 30, 78, 36]\n"
          ]
        }
      ]
    },
    {
      "cell_type": "code",
      "source": [
        "fmap_rdd=sc.parallelize([\"hello world!\",\"welcome to pyspark RDD\"])\n",
        "(fmap_rdd.flatMap(lambda x:x.split(\" \")).collect())"
      ],
      "metadata": {
        "colab": {
          "base_uri": "https://localhost:8080/"
        },
        "id": "s5BAyAE1ROSV",
        "outputId": "995bbcb9-b638-4179-f2d1-951dac818d4a"
      },
      "execution_count": null,
      "outputs": [
        {
          "output_type": "execute_result",
          "data": {
            "text/plain": [
              "['hello', 'world!', 'welcome', 'to', 'pyspark', 'RDD']"
            ]
          },
          "metadata": {},
          "execution_count": 15
        }
      ]
    },
    {
      "cell_type": "code",
      "source": [
        "cl_rdd = sc.parallelize([15, 10, 5, 8, 9, 6, 3, 45])\n"
      ],
      "metadata": {
        "id": "JKCYg4lrnQTu"
      },
      "execution_count": 5,
      "outputs": []
    },
    {
      "cell_type": "code",
      "source": [],
      "metadata": {
        "id": "ozVY3X_nT9_w"
      },
      "execution_count": null,
      "outputs": []
    },
    {
      "cell_type": "markdown",
      "source": [
        "actions\n"
      ],
      "metadata": {
        "id": "Y40P7NYbUGyg"
      }
    },
    {
      "cell_type": "code",
      "source": [
        "\n",
        "\n",
        "print(cl_rdd.collect())\n",
        "\n",
        "print(cl_rdd.count())\n",
        "\n",
        "print(cl_rdd.first())\n",
        "\n",
        "\n",
        "print(cl_rdd.take(3))\n",
        "\n",
        "print(cl_rdd.reduce(lambda x,y:x+y))\n",
        "\n",
        "\n"
      ],
      "metadata": {
        "colab": {
          "base_uri": "https://localhost:8080/"
        },
        "id": "9E38mmlWUKMX",
        "outputId": "4dd343cc-151f-4dc5-93b4-6675fc9e4c8f"
      },
      "execution_count": 6,
      "outputs": [
        {
          "output_type": "stream",
          "name": "stdout",
          "text": [
            "[15, 10, 5, 8, 9, 6, 3, 45]\n",
            "8\n",
            "15\n",
            "[15, 10, 5]\n",
            "101\n"
          ]
        }
      ]
    },
    {
      "cell_type": "markdown",
      "source": [
        "TRANSFORMATION OF PAIR RDD\n"
      ],
      "metadata": {
        "id": "hrBEURxqe0hN"
      }
    }
  ]
}